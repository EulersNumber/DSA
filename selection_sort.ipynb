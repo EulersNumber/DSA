{
 "cells": [
  {
   "cell_type": "markdown",
   "metadata": {},
   "source": [
    "# Selection sort"
   ]
  },
  {
   "cell_type": "code",
   "execution_count": 1,
   "metadata": {},
   "outputs": [],
   "source": [
    "import numpy as np"
   ]
  },
  {
   "cell_type": "code",
   "execution_count": null,
   "metadata": {},
   "outputs": [],
   "source": [
    "# Time complexity:\n",
    "\n",
    "## Worst case: O(n^2)\n",
    "## Average case: O(n^2)\n",
    "## Best case: O(n^2)\n",
    "\n",
    "# Stable: False\n",
    "# Inplace: True"
   ]
  },
  {
   "cell_type": "code",
   "execution_count": 2,
   "metadata": {},
   "outputs": [],
   "source": [
    "\"\"\"Sorts a given list of random integers\"\"\"\n",
    "def selection_sort(A):\n",
    "    n = len(A)\n",
    "    for i in range(n):\n",
    "        min_idx = i\n",
    "        for j in range(i+1, n):\n",
    "            if A[min_idx] > A[j]:\n",
    "                min_idx = j\n",
    "        A[i], A[min_idx] = A[min_idx], A[i]    "
   ]
  },
  {
   "cell_type": "code",
   "execution_count": 3,
   "metadata": {},
   "outputs": [
    {
     "name": "stdout",
     "output_type": "stream",
     "text": [
      "Unsorted list:\n",
      " [93 87 70 85 16 37 35 88 94 63  2 32 95  7 21 95 11 92 57 77 33 27 22 79\n",
      " 31 69 49 54 74 38 74 24 42 23 62 29 51 66 13 19 72 71 11 58 10 60 65  7\n",
      " 57 74 93  4 46 24 38  8 91 21 51 64 65 87 86 88 70 26 24 73 59 16 13 51\n",
      " 33 59 68 83  1 70 54 87 87 94 84 77 83 65 83 80 60 10 59  0 11 35 35 75\n",
      " 42  2 69 80]\n",
      "\n",
      "Sorted list:\n",
      " [ 0  1  2  2  4  7  7  8 10 10 11 11 11 13 13 16 16 19 21 21 22 23 24 24\n",
      " 24 26 27 29 31 32 33 33 35 35 35 37 38 38 42 42 46 49 51 51 51 54 54 57\n",
      " 57 58 59 59 59 60 60 62 63 64 65 65 65 66 68 69 69 70 70 70 71 72 73 74\n",
      " 74 74 75 77 77 79 80 80 83 83 83 84 85 86 87 87 87 87 88 88 91 92 93 93\n",
      " 94 94 95 95]\n"
     ]
    }
   ],
   "source": [
    "array = np.random.randint(100, size=100)\n",
    "print(\"Unsorted list:\\n\",array) \n",
    "sortedArray = selection_sort(array)\n",
    "print(\"\\nSorted list:\\n\",array) "
   ]
  }
 ],
 "metadata": {
  "kernelspec": {
   "display_name": "Python 3",
   "language": "python",
   "name": "python3"
  },
  "language_info": {
   "codemirror_mode": {
    "name": "ipython",
    "version": 3
   },
   "file_extension": ".py",
   "mimetype": "text/x-python",
   "name": "python",
   "nbconvert_exporter": "python",
   "pygments_lexer": "ipython3",
   "version": "3.7.6"
  }
 },
 "nbformat": 4,
 "nbformat_minor": 4
}
