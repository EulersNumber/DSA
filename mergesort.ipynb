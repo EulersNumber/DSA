{
 "cells": [
  {
   "cell_type": "markdown",
   "metadata": {},
   "source": [
    " # Mergesort"
   ]
  },
  {
   "cell_type": "code",
   "execution_count": 1,
   "metadata": {},
   "outputs": [],
   "source": [
    "import numpy as np"
   ]
  },
  {
   "cell_type": "code",
   "execution_count": 70,
   "metadata": {},
   "outputs": [],
   "source": [
    "# Time complexity:\n",
    "\n",
    "## Worst case: O(nlog(n))\n",
    "## Average case: O(nlog(n))\n",
    "## Best case: O(nlog(n))\n",
    "\n",
    "# Stable: True\n",
    "# Inplace: False"
   ]
  },
  {
   "cell_type": "code",
   "execution_count": 71,
   "metadata": {},
   "outputs": [],
   "source": [
    "# Implementation: Data Structures and Algorithms in Python (Goodrisch, Tamassia, and Goldwasser)\n",
    "\n",
    "def merge(S1, S2, S):\n",
    "    \"\"\"Merge two sorted Python lists S1 and S2 into properly sorted list S\"\"\"\n",
    "    i = j = 0\n",
    "    while i + j < len(S):\n",
    "        if j == len(S2) or (i < len(S1) and S1[i] < S2[j]):\n",
    "            S[i+j] = S1[i]\n",
    "            i += 1\n",
    "        else:\n",
    "            S[i+j] = S2[j]\n",
    "            j += 1\n",
    "\n",
    "def mergesort(S):\n",
    "    \"\"\"Sort the elements of Python list S using the mergesort algorithm\"\"\"\n",
    "    n = len(S)\n",
    "    if n < 2:\n",
    "        return\n",
    "    # divide\n",
    "    mid = n // 2\n",
    "    S1 = S[0:mid]\n",
    "    S2 = S[mid:n]\n",
    "    # conquer\n",
    "    mergesort(S1)\n",
    "    mergesort(S2)\n",
    "    # merge results\n",
    "    merge(S1, S2, S)    "
   ]
  },
  {
   "cell_type": "code",
   "execution_count": 72,
   "metadata": {},
   "outputs": [
    {
     "name": "stdout",
     "output_type": "stream",
     "text": [
      "Unsorted list:\n",
      " [81, 45, 53, 9, 58, 69, 31, 72, 5, 19, 79, 71, 16, 93, 10, 33, 14, 50, 30, 74, 4, 19, 26, 75, 84, 61, 22, 81, 92, 60, 55, 17, 12, 42, 79, 61, 18, 12, 95, 87, 32, 53, 88, 26, 96, 69, 51, 73, 3, 87, 69, 1, 8, 71, 59, 6, 54, 66, 42, 18, 3, 95, 57, 38, 18, 8, 95, 52, 35, 0, 69, 46, 78, 20, 67, 73, 56, 61, 64, 62, 59, 39, 37, 86, 33, 3, 31, 4, 67, 7, 15, 91, 63, 85, 40, 18, 92, 19, 85, 92]\n",
      "\n",
      "Sorted list:\n",
      " [0, 1, 3, 3, 3, 4, 4, 5, 6, 7, 8, 8, 9, 10, 12, 12, 14, 15, 16, 17, 18, 18, 18, 18, 19, 19, 19, 20, 22, 26, 26, 30, 31, 31, 32, 33, 33, 35, 37, 38, 39, 40, 42, 42, 45, 46, 50, 51, 52, 53, 53, 54, 55, 56, 57, 58, 59, 59, 60, 61, 61, 61, 62, 63, 64, 66, 67, 67, 69, 69, 69, 69, 71, 71, 72, 73, 73, 74, 75, 78, 79, 79, 81, 81, 84, 85, 85, 86, 87, 87, 88, 91, 92, 92, 92, 93, 95, 95, 95, 96]\n"
     ]
    }
   ],
   "source": [
    "# array = np.random.randint(10, size = 10)\n",
    "array = [np.random.randint(100) for i in range (100)]\n",
    "print(\"Unsorted list:\\n\",array)\n",
    "mergesort(array)\n",
    "print(\"\\nSorted list:\\n\",array) "
   ]
  }
 ],
 "metadata": {
  "kernelspec": {
   "display_name": "Python 3",
   "language": "python",
   "name": "python3"
  },
  "language_info": {
   "codemirror_mode": {
    "name": "ipython",
    "version": 3
   },
   "file_extension": ".py",
   "mimetype": "text/x-python",
   "name": "python",
   "nbconvert_exporter": "python",
   "pygments_lexer": "ipython3",
   "version": "3.7.6"
  }
 },
 "nbformat": 4,
 "nbformat_minor": 4
}
