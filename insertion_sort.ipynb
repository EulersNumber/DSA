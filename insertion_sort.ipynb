{
 "cells": [
  {
   "cell_type": "code",
   "execution_count": 1,
   "metadata": {},
   "outputs": [],
   "source": [
    "import numpy as np"
   ]
  },
  {
   "cell_type": "code",
   "execution_count": 2,
   "metadata": {},
   "outputs": [],
   "source": [
    "def insertion_sort(A):\n",
    "    for i in range(1, len(A)):\n",
    "        j = i\n",
    "        while j > 0 and A[j] < A[j-1]:\n",
    "            A[j], A[j-1] = A[j-1], A[j]\n",
    "            j -= 1"
   ]
  },
  {
   "cell_type": "code",
   "execution_count": 3,
   "metadata": {},
   "outputs": [
    {
     "name": "stdout",
     "output_type": "stream",
     "text": [
      "Unsorted list:\n",
      " [63 50 68 55 49 49 30 15 64 38 43 52 10 58 30 67 40 84 52  3 18 18 46 52\n",
      " 32 96 32 51 41 24 36 74  5 84  0 76 15 10 40  8 45 82 77  9 44 14 71 54\n",
      " 57 42 18 68 49 84 88 29  8 45 12  8 61 16 37 23  5 16 58  4 74 47 23 33\n",
      "  0 70 34 64 89 30 68  7 28 29 31 86 97  9  4 70 83 80 89 44 85 57 48 93\n",
      "  4 23 40 73]\n",
      "\n",
      "Sorted list:\n",
      " [ 0  0  3  4  4  4  5  5  7  8  8  8  9  9 10 10 12 14 15 15 16 16 18 18\n",
      " 18 23 23 23 24 28 29 29 30 30 30 31 32 32 33 34 36 37 38 40 40 40 41 42\n",
      " 43 44 44 45 45 46 47 48 49 49 49 50 51 52 52 52 54 55 57 57 58 58 61 63\n",
      " 64 64 67 68 68 68 70 70 71 73 74 74 76 77 80 82 83 84 84 84 85 86 88 89\n",
      " 89 93 96 97]\n"
     ]
    }
   ],
   "source": [
    "array = np.random.randint(100, size=100)\n",
    "print(\"Unsorted list:\\n\",array) \n",
    "sortedArray = insertion_sort(array)\n",
    "print(\"\\nSorted list:\\n\",array) "
   ]
  },
  {
   "cell_type": "code",
   "execution_count": null,
   "metadata": {},
   "outputs": [],
   "source": []
  }
 ],
 "metadata": {
  "kernelspec": {
   "display_name": "Python 3",
   "language": "python",
   "name": "python3"
  },
  "language_info": {
   "codemirror_mode": {
    "name": "ipython",
    "version": 3
   },
   "file_extension": ".py",
   "mimetype": "text/x-python",
   "name": "python",
   "nbconvert_exporter": "python",
   "pygments_lexer": "ipython3",
   "version": "3.7.6"
  }
 },
 "nbformat": 4,
 "nbformat_minor": 4
}
