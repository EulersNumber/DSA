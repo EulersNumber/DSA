{
 "cells": [
  {
   "cell_type": "markdown",
   "metadata": {},
   "source": [
    "# Insertion sort"
   ]
  },
  {
   "cell_type": "code",
   "execution_count": 14,
   "metadata": {},
   "outputs": [],
   "source": [
    "import numpy as np"
   ]
  },
  {
   "cell_type": "raw",
   "metadata": {},
   "source": [
    "Time complexity:\n",
    "\n",
    "Worst case: O(n^2)\n",
    "Average case: O(n^2)\n",
    "Best case: O(n)\n",
    "\n",
    "Stable: True\n",
    "Inplace: True"
   ]
  },
  {
   "cell_type": "code",
   "execution_count": 15,
   "metadata": {},
   "outputs": [],
   "source": [
    "\"\"\"Sorts a given list of random integers\"\"\"\n",
    "def insertion_sort(A):\n",
    "    for i in range(1, len(A)):\n",
    "        j = i\n",
    "        while j > 0 and A[j] < A[j-1]:\n",
    "            A[j], A[j-1] = A[j-1], A[j]\n",
    "            j -= 1"
   ]
  },
  {
   "cell_type": "code",
   "execution_count": 16,
   "metadata": {},
   "outputs": [
    {
     "name": "stdout",
     "output_type": "stream",
     "text": [
      "Unsorted list:\n",
      " [88 74 78 54 67  1 69 14 20 87 45  8 21 89 76 16 56 16 50 55 51 35 38 28\n",
      " 22  1 12 96 57  8 45 57 91  0 82 69 72 28 36  1 75 44 27 45 85 52 18 14\n",
      " 12 31 64  0 17 49  2 48 69  0 83 16 75 90 13  7 13 22 27 94 40 78 46 65\n",
      " 78 60 91 12 11 39 30 14 80 23 86 79 23 66 35 79 90 80 59 51 15 15  4 47\n",
      " 17  7 70 51]\n",
      "\n",
      "Sorted list:\n",
      " [ 0  0  0  1  1  1  2  4  7  7  8  8 11 12 12 12 13 13 14 14 14 15 15 16\n",
      " 16 16 17 17 18 20 21 22 22 23 23 27 27 28 28 30 31 35 35 36 38 39 40 44\n",
      " 45 45 45 46 47 48 49 50 51 51 51 52 54 55 56 57 57 59 60 64 65 66 67 69\n",
      " 69 69 70 72 74 75 75 76 78 78 78 79 79 80 80 82 83 85 86 87 88 89 90 90\n",
      " 91 91 94 96]\n"
     ]
    }
   ],
   "source": [
    "array = np.random.randint(100, size=100)\n",
    "print(\"Unsorted list:\\n\",array) \n",
    "sortedArray = insertion_sort(array)\n",
    "print(\"\\nSorted list:\\n\",array) "
   ]
  }
 ],
 "metadata": {
  "kernelspec": {
   "display_name": "Python 3",
   "language": "python",
   "name": "python3"
  },
  "language_info": {
   "codemirror_mode": {
    "name": "ipython",
    "version": 3
   },
   "file_extension": ".py",
   "mimetype": "text/x-python",
   "name": "python",
   "nbconvert_exporter": "python",
   "pygments_lexer": "ipython3",
   "version": "3.7.6"
  }
 },
 "nbformat": 4,
 "nbformat_minor": 4
}
