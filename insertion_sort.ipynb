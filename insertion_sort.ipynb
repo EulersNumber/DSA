{
 "cells": [
  {
   "cell_type": "markdown",
   "metadata": {},
   "source": [
    "# Insertion sort"
   ]
  },
  {
   "cell_type": "code",
   "execution_count": 2,
   "metadata": {},
   "outputs": [],
   "source": [
    "import numpy as np"
   ]
  },
  {
   "cell_type": "code",
   "execution_count": 3,
   "metadata": {},
   "outputs": [],
   "source": [
    "# Time complexity:\n",
    "\n",
    "## Worst case: O(n^2)\n",
    "## Average case: O(n^2)\n",
    "## Best case: O(n)\n",
    "\n",
    "# Stable: True\n",
    "# Inplace: True"
   ]
  },
  {
   "cell_type": "code",
   "execution_count": 4,
   "metadata": {},
   "outputs": [],
   "source": [
    "\"\"\"Sorts a given list of random integers\"\"\"\n",
    "def insertion_sort(A):\n",
    "    for i in range(1, len(A)):\n",
    "        j = i\n",
    "        while j > 0 and A[j] < A[j-1]:\n",
    "            A[j], A[j-1] = A[j-1], A[j]\n",
    "            j -= 1"
   ]
  },
  {
   "cell_type": "code",
   "execution_count": 5,
   "metadata": {},
   "outputs": [
    {
     "name": "stdout",
     "output_type": "stream",
     "text": [
      "Unsorted list:\n",
      " [69 35  6 79 36 63 33 15 46 97 27 14 45 17 35 18 91  8  2 60 47 63 60 18\n",
      "  2 39 11 63 66 33 30 45  2 85 71 14 78 16 64 37 35 36 68  2 56 73 93 19\n",
      " 86  4 44 98 31 98 46 94 98 80 11 27 15 67 64 73 53 96 96 66 82 52 28 44\n",
      " 46 12 66  2 12 89 16 67  4 18 98 16 18 10 49 10 98 71 72 81 43 20 29 37\n",
      " 34 75 34 13]\n",
      "\n",
      "Sorted list:\n",
      " [ 2  2  2  2  2  4  4  6  8 10 10 11 11 12 12 13 14 14 15 15 16 16 16 17\n",
      " 18 18 18 18 19 20 27 27 28 29 30 31 33 33 34 34 35 35 35 36 36 37 37 39\n",
      " 43 44 44 45 45 46 46 46 47 49 52 53 56 60 60 63 63 63 64 64 66 66 66 67\n",
      " 67 68 69 71 71 72 73 73 75 78 79 80 81 82 85 86 89 91 93 94 96 96 97 98\n",
      " 98 98 98 98]\n"
     ]
    }
   ],
   "source": [
    "array = np.random.randint(100, size=100)\n",
    "print(\"Unsorted list:\\n\",array) \n",
    "sortedArray = insertion_sort(array)\n",
    "print(\"\\nSorted list:\\n\",array) "
   ]
  }
 ],
 "metadata": {
  "kernelspec": {
   "display_name": "Python 3",
   "language": "python",
   "name": "python3"
  },
  "language_info": {
   "codemirror_mode": {
    "name": "ipython",
    "version": 3
   },
   "file_extension": ".py",
   "mimetype": "text/x-python",
   "name": "python",
   "nbconvert_exporter": "python",
   "pygments_lexer": "ipython3",
   "version": "3.7.6"
  }
 },
 "nbformat": 4,
 "nbformat_minor": 4
}
