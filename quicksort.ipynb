{
 "cells": [
  {
   "cell_type": "markdown",
   "metadata": {},
   "source": [
    "# Quicksort"
   ]
  },
  {
   "cell_type": "code",
   "execution_count": 1,
   "metadata": {},
   "outputs": [],
   "source": [
    "import numpy as np"
   ]
  },
  {
   "cell_type": "code",
   "execution_count": 2,
   "metadata": {},
   "outputs": [],
   "source": [
    "# Time complexity:\n",
    "\n",
    "## Worst case: \n",
    "## Average case: \n",
    "## Best case: \n",
    "\n",
    "# Stable: \n",
    "# Inplace: "
   ]
  },
  {
   "cell_type": "code",
   "execution_count": 6,
   "metadata": {},
   "outputs": [],
   "source": [
    "def quicksort(A, start, end):\n",
    "    \"\"\"Sorts a list of random integers with the quicksort algorithm\"\"\"\n",
    "    if start >= end: return\n",
    "    i, j = start, end\n",
    "    pivot = (A[start] + A[end]) // 2\n",
    "    while i <= j:\n",
    "        while A[i] < pivot:\n",
    "            i += 1\n",
    "        while A[j] > pivot:\n",
    "            j -= 1\n",
    "        if i <= j:\n",
    "            A[i], A[j] = A[j], A[i]\n",
    "            i += 1\n",
    "            j -= 1\n",
    "    quicksort(A, start, j)\n",
    "    quicksort(A, i, end)"
   ]
  },
  {
   "cell_type": "code",
   "execution_count": 7,
   "metadata": {},
   "outputs": [
    {
     "name": "stdout",
     "output_type": "stream",
     "text": [
      "Unsorted list:\n",
      " [26, 95, 35, 22, 33, 16, 15, 84, 17, 3, 50, 35, 28, 84, 68, 10, 14, 3, 58, 8, 28, 47, 42, 50, 41, 67, 83, 43, 67, 98, 20, 90, 9, 79, 76, 81, 33, 17, 32, 9, 99, 98, 29, 17, 57, 54, 58, 99, 37, 24, 9, 28, 89, 12, 70, 82, 92, 66, 58, 3, 1, 11, 41, 31, 52, 21, 53, 99, 65, 11, 38, 42, 0, 9, 32, 3, 39, 86, 20, 34, 70, 18, 34, 39, 65, 71, 61, 80, 70, 70, 74, 53, 76, 86, 52, 1, 48, 98, 9, 26]\n",
      "\n",
      "Sorted list:\n",
      " [0, 1, 1, 3, 3, 3, 3, 8, 9, 9, 9, 9, 9, 10, 11, 11, 12, 14, 15, 16, 17, 17, 17, 18, 20, 20, 21, 22, 24, 26, 26, 28, 28, 28, 29, 31, 32, 32, 33, 33, 34, 34, 35, 35, 37, 38, 39, 39, 41, 41, 42, 42, 43, 47, 48, 50, 50, 52, 52, 53, 53, 54, 57, 58, 58, 58, 61, 65, 65, 66, 67, 67, 68, 70, 70, 70, 70, 71, 74, 76, 76, 79, 80, 81, 82, 83, 84, 84, 86, 86, 89, 90, 92, 95, 98, 98, 98, 99, 99, 99]\n"
     ]
    }
   ],
   "source": [
    "# array = np.random.randint(10, size = 10)\n",
    "array = [np.random.randint(100) for i in range (100)]\n",
    "print(\"Unsorted list:\\n\",array)\n",
    "quicksort(array, 0, len(array)-1)\n",
    "print(\"\\nSorted list:\\n\",array) "
   ]
  },
  {
   "cell_type": "code",
   "execution_count": null,
   "metadata": {},
   "outputs": [],
   "source": []
  }
 ],
 "metadata": {
  "kernelspec": {
   "display_name": "Python 3",
   "language": "python",
   "name": "python3"
  },
  "language_info": {
   "codemirror_mode": {
    "name": "ipython",
    "version": 3
   },
   "file_extension": ".py",
   "mimetype": "text/x-python",
   "name": "python",
   "nbconvert_exporter": "python",
   "pygments_lexer": "ipython3",
   "version": "3.7.6"
  }
 },
 "nbformat": 4,
 "nbformat_minor": 4
}
